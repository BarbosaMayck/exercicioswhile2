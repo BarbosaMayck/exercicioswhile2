{
  "nbformat": 4,
  "nbformat_minor": 0,
  "metadata": {
    "colab": {
      "provenance": []
    },
    "kernelspec": {
      "name": "python3",
      "display_name": "Python 3"
    },
    "language_info": {
      "name": "python"
    }
  },
  "cells": [
    {
      "cell_type": "code",
      "execution_count": null,
      "metadata": {
        "id": "isJMqB79X12S"
      },
      "outputs": [],
      "source": [
        "nota = float(input(\"Digite uma nota entre zero e dez: \"))\n",
        "\n",
        "while nota < 0 or nota > 10:\n",
        "  print(\"Nota Inválido\")\n",
        "\n",
        "  nota = float(input(\"Digite uma nota entre zero e dez: \"))\n",
        "if nota >= 0 or nota <= 10:\n",
        "    print(\"Sua Nota é:\", nota)"
      ]
    },
    {
      "cell_type": "code",
      "source": [
        "soma = 0\n",
        "quantidade = 0\n",
        "\n",
        "print(\"Digite Uma Lista de Números. Digite 'Media' Para Terminar.\")\n",
        "numero = input(\"Digite um Número ou 'Media' Para Terminar: \")\n",
        "\n",
        "while numero != \"Media\" and numero != \"media\":\n",
        "    soma += float(numero)\n",
        "    quantidade += 1\n",
        "    numero = input(\"Digite um Número ou 'Media' Para Terminar: \")\n",
        "\n",
        "if quantidade > 0:\n",
        "  resultado = soma / quantidade\n",
        "  print(\"A Média Dos Números é:\", resultado)"
      ],
      "metadata": {
        "id": "FjOxVF-UbLT0"
      },
      "execution_count": null,
      "outputs": []
    },
    {
      "cell_type": "code",
      "source": [
        "nome = input(\"Digite Seu Nome: \")\n",
        "senhas = input(\"Digite Uma Senha: \")\n",
        "\n",
        "while senhas == nome:\n",
        "  print(\"Senha Negada!\")\n",
        "\n",
        "  nome = input(\"Digite Seu Nome: \")\n",
        "  senhas = input(\"Digite Uma Senha: \")\n",
        "if senhas != nome:\n",
        " print(\"Senha Liberada!\")"
      ],
      "metadata": {
        "id": "BtHqNtnHdgk6"
      },
      "execution_count": null,
      "outputs": []
    },
    {
      "cell_type": "code",
      "source": [
        "ano = 1995\n",
        "salario = float(input(\"Digite Salário Inicial: \"))\n",
        "atual = int(input(\"Digite Ano Atual: \"))\n",
        "percentual = 0.015\n",
        "\n",
        "while ano < atual:\n",
        "    ano += 1\n",
        "    aumento = salario * percentual\n",
        "    salario += aumento\n",
        "    percentual *= 2\n",
        "\n",
        "    print(f\"Salário em {ano} = {salario:.2f}\")"
      ],
      "metadata": {
        "id": "IIjUDFs_gbb2"
      },
      "execution_count": null,
      "outputs": []
    },
    {
      "cell_type": "code",
      "source": [
        "nome = input(\"Digite Seu Nome (Maior Que 3 Caracteres): \")\n",
        "while len(nome) <= 2:\n",
        "    nome = input(\"Digite Seu Nome Novamente: \")\n",
        "\n",
        "idade = int(input(\"Digite Sua Idade: \"))\n",
        "while idade > 150 or idade < 0:\n",
        "    idade = int(input(\"Digite Sua Idade Novamente: \"))\n",
        "\n",
        "salario = float(input(\"Digite Seu Salário: \"))\n",
        "while salario <= 0:\n",
        "    salario = float(input(\"Digite Seu Salário Novamente: \"))\n",
        "\n",
        "sexo = input(\"Digite Seu Sexo: 'F' (Feminino) ou 'M' (Masculino): \")\n",
        "while sexo != 'F' and sexo != 'f' and sexo != 'M' and sexo != 'm':\n",
        "    sexo = input(\"Digite Seu Sexo Novamente: \")\n",
        "\n",
        "estadocivil = input(\"Digite Seu Estado Civil: 'S' (Solteiro), 'C' (Casado), 'V' (Viúvo), 'D' (Divorciado): \")\n",
        "while estadocivil != 'S' and estadocivil != 's' and estadocivil != 'C' and estadocivil != 'c' and estadocivil != 'V' and estadocivil != 'v' and estadocivil != 'D' and estadocivil != 'd':\n",
        "    estadocivil = input(\"Digite Seu Estado Civil Novamente: \")\n",
        "\n",
        "print()\n",
        "print(\"Informações\")\n",
        "print(\"Nome:\", nome)\n",
        "print(\"Idade:\", idade)\n",
        "print(\"Salário:\", salario)\n",
        "print(\"Sexo:\", sexo)\n",
        "print(\"Estado Civil:\", estadocivil)"
      ],
      "metadata": {
        "id": "kOwocvry1FZj"
      },
      "execution_count": null,
      "outputs": []
    },
    {
      "cell_type": "code",
      "source": [
        "populacaoA = 80000\n",
        "taxacrescimentoA = 0.03\n",
        "populacaoB = 200000\n",
        "taxacrescimentoB = 0.015\n",
        "anos = 0\n",
        "\n",
        "while populacaoA < populacaoB:\n",
        "    populacaoA *= 1 + taxacrescimentoA\n",
        "    populacaoB *= 1 + taxacrescimentoB\n",
        "    anos += 1\n",
        "\n",
        "print(f\"Necessários {anos} Anos Para Que a População do País A Ultrapasse ou Iguale a População do País B: \")"
      ],
      "metadata": {
        "id": "pLvPL9azX-ZA"
      },
      "execution_count": null,
      "outputs": []
    },
    {
      "cell_type": "code",
      "source": [
        "numero = int(input(\"Digite um número inteiro positivo: \"))\n",
        "\n",
        "if numero < 0:\n",
        "    print(\"Não Existe Fatorial em Números Negativos.\")\n",
        "elif numero == 0:\n",
        "    print(\"O Fatorial de 0 é Sempre 1.\")\n",
        "else:\n",
        "    fatorial = 1\n",
        "    fator = 1\n",
        "    while fator <= numero:\n",
        "        fatorial *= fator\n",
        "        fator += 1\n",
        "    print(f\"O fatorial de {numero} é {fatorial}.\")"
      ],
      "metadata": {
        "id": "0XWFGwFKavi0"
      },
      "execution_count": null,
      "outputs": []
    },
    {
      "cell_type": "code",
      "source": [
        "soma = 0\n",
        "contador = 0\n",
        "\n",
        "print(\"Digite Alguns Números. Digite '0' Para Terminar.\")\n",
        "numero = input(\"Digite um Número ou '0' Para Terminar: \")\n",
        "\n",
        "while numero != '0':\n",
        "    soma += float(numero)\n",
        "    contador += 1\n",
        "    numero = input(\"Digite um Número ou '0' Para Terminar: \")\n",
        "\n",
        "if contador > 0:\n",
        "    media = soma / contador\n",
        "    print(\"A Média Dos Números é:\", media)"
      ],
      "metadata": {
        "id": "AOtDLzw0cCpd"
      },
      "execution_count": null,
      "outputs": []
    },
    {
      "cell_type": "code",
      "source": [
        "continuar = \"S\"\n",
        "\n",
        "while continuar == \"S\" or continuar == \"s\":\n",
        "    total = 0\n",
        "    numeroproduto = 0\n",
        "\n",
        "    precoproduto = float(input(f\"Produto {numeroproduto + 1} (digite 0 para finalizar): \"))\n",
        "\n",
        "    while precoproduto != 0:\n",
        "        total += precoproduto\n",
        "        numeroproduto += 1\n",
        "        precoproduto = float(input(f\"Produto {numeroproduto + 1} (digite 0 para finalizar): \"))\n",
        "\n",
        "    print(f\"Total: R$ {total:.2f}\")\n",
        "\n",
        "    dinheiro = float(input(\"Dinheiro: \"))\n",
        "    troco = dinheiro - total\n",
        "\n",
        "    print(f\"Troco: R$ {troco:.2f}\")\n",
        "\n",
        "    outracompra = input(\"Deseja Comprar Outra Coisa? (S/N): \")\n",
        "\n",
        "    if outracompra == 'N' or outracompra == 'n':\n",
        "        print(\"Tenha um Bom Dia!\")\n",
        "        continuar = 'N'\n",
        "    elif outracompra == 'S' or outracompra == 's':\n",
        "        print(\"Faça Boas Compras!\")\n",
        "    else:\n",
        "        print(\"Opção inválida, encerrando o programa.\")\n",
        "        continuar = 'N'"
      ],
      "metadata": {
        "id": "rUTLZLhvm-5r"
      },
      "execution_count": null,
      "outputs": []
    },
    {
      "cell_type": "code",
      "source": [],
      "metadata": {
        "id": "nnNPCU0k-RGY"
      },
      "execution_count": null,
      "outputs": []
    }
  ]
}